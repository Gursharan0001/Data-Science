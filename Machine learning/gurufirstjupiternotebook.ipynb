{
 "cells": [
  {
   "cell_type": "code",
   "execution_count": 2,
   "id": "29efbed9-7bc0-4fe5-98ff-ef4fa88256a0",
   "metadata": {},
   "outputs": [
    {
     "name": "stdout",
     "output_type": "stream",
     "text": [
      "Hello world\n"
     ]
    }
   ],
   "source": [
    "print(\"Hello world\")\n"
   ]
  },
  {
   "cell_type": "code",
   "execution_count": 5,
   "id": "269419a8-1eb6-455a-a68e-3cddfaaea7f9",
   "metadata": {},
   "outputs": [
    {
     "name": "stdout",
     "output_type": "stream",
     "text": [
      "My name is Gursharan Singh\n"
     ]
    }
   ],
   "source": [
    "print(\"My name is Gursharan Singh\")"
   ]
  },
  {
   "cell_type": "code",
   "execution_count": 6,
   "id": "c3a03948-7fd3-4d00-815c-3611f35bdb51",
   "metadata": {},
   "outputs": [
    {
     "data": {
      "text/plain": [
       "100"
      ]
     },
     "execution_count": 6,
     "metadata": {},
     "output_type": "execute_result"
    }
   ],
   "source": [
    "24+76"
   ]
  },
  {
   "cell_type": "code",
   "execution_count": null,
   "id": "1bd5378c-3273-4b9e-86b7-baf738048a35",
   "metadata": {},
   "outputs": [],
   "source": []
  },
  {
   "cell_type": "markdown",
   "id": "b6defa02-9ce3-4c13-846a-70ca6522b6ee",
   "metadata": {},
   "source": [
    "to run and excute the code : shift+enter or alt+ enter\n",
    "\n",
    "to add the cell above the current cell: ESC+A\n",
    "\n",
    "to add the cell below the current cell: ESC+B\n",
    "\n",
    "to delete the cell : ESC+d+d\n",
    "\n",
    "# is used to write single line comment\n",
    "\n",
    "but Markdowm is used to write multiple line comment.\n",
    "\n"
   ]
  },
  {
   "cell_type": "markdown",
   "id": "551ab7e3-5c84-42a6-9b97-164d4de837b9",
   "metadata": {},
   "source": []
  }
 ],
 "metadata": {
  "kernelspec": {
   "display_name": "Python 3 (ipykernel)",
   "language": "python",
   "name": "python3"
  },
  "language_info": {
   "codemirror_mode": {
    "name": "ipython",
    "version": 3
   },
   "file_extension": ".py",
   "mimetype": "text/x-python",
   "name": "python",
   "nbconvert_exporter": "python",
   "pygments_lexer": "ipython3",
   "version": "3.11.7"
  }
 },
 "nbformat": 4,
 "nbformat_minor": 5
}
